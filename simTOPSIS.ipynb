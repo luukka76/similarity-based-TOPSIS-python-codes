{
 "cells": [
  {
   "cell_type": "code",
   "execution_count": 78,
   "id": "c416ec9b",
   "metadata": {},
   "outputs": [
    {
     "name": "stdout",
     "output_type": "stream",
     "text": [
      "1.0\n"
     ]
    },
    {
     "data": {
      "text/plain": [
       "array([0.3000123 , 0.34926536, 0.2907104 , 0.37711992, 0.14583333,\n",
       "       0.89516521, 0.48679751, 0.27900267, 0.32980013, 0.22616381,\n",
       "       0.19900478, 0.30849199, 0.2104577 , 0.29813977, 0.28822531,\n",
       "       0.45394312, 0.7710874 , 0.41076021, 0.53889121, 0.2208477 ])"
      ]
     },
     "execution_count": 78,
     "metadata": {},
     "output_type": "execute_result"
    }
   ],
   "source": [
    "import numpy as np\n",
    "from sklearn.preprocessing import MinMaxScaler\n",
    "\n",
    "# Python codes for similarity based TOPSIS which was introduced in\n",
    "# P. Luukka, M. Collan, Histogram ranking with generalized similarity-based TOPSIS\n",
    "# applied to patent ranking, International Journal of Operational Research 25 (4), 2016,\n",
    "# pp. 437-448.\n",
    "\n",
    "\n",
    "def simtopsis(data, weights, crit):\n",
    "    # Normalize the data normalize the data into unit interval:\n",
    "\n",
    "\n",
    "    # Initialize the scaler\n",
    "    scaler = MinMaxScaler()\n",
    "\n",
    "    # Fit the scaler to the data\n",
    "    scaler.fit(data)\n",
    "\n",
    "    # Transform the data\n",
    "    normalized_data = scaler.transform(data)\n",
    "\n",
    "    # Calculate the weighted normalized data\n",
    "    weighted_normalized_data = normalized_data * weights\n",
    "    m, n = weighted_normalized_data.shape\n",
    "    # Find the ideal and negative ideal solutions\n",
    "\n",
    "    r=weighted_normalized_data\n",
    "    ideal_solution = np.zeros(n)\n",
    "    negative_ideal_solution = np.zeros(n)\n",
    "    for j in range(n):\n",
    "        \n",
    "        if crit[j] == 1:\n",
    "            ideal_solution[j] = np.amax(r[:, j])\n",
    "            negative_ideal_solution[j] = np.amin(r[:, j])\n",
    "            \n",
    "        else:\n",
    "            ideal_solution[j] = np.amin(r[:, j])\n",
    "            negative_ideal_solution[j] = np.amax(r[:, j])\n",
    "            print(negative_ideal_solution[j])\n",
    "        \n",
    "    \n",
    "    # Find the separation from the ideal solution\n",
    "    p = 1; \n",
    "        \n",
    "    sep_ideal = np.zeros((m,n))\n",
    "    sep_neg_ideal = np.zeros((m,n))\n",
    "    for i in range(m):\n",
    "        for j in range(n):\n",
    "            sep_ideal[i,j] = (1 - abs(weighted_normalized_data[i,j]**p - ideal_solution[j]**p))**(1/p)\n",
    "            sep_neg_ideal[i,j] = (1 - abs(weighted_normalized_data[i,j]**p - negative_ideal_solution[j]**p))**(1/p)\n",
    "         \n",
    "    SPIS = np.mean(sep_ideal,axis = 1)\n",
    "    SNIS = np.mean(sep_neg_ideal,axis = 1)\n",
    "    \n",
    "    \n",
    "    closeness = (SPIS / (SPIS + SNIS))\n",
    "    # Return the indices of the alternatives sorted by closeness\n",
    "    return np.argsort(closeness)[::-1]\n",
    "    #return  closeness         \n",
    "                             \n",
    "#Example on how to run the code:\n",
    "\n",
    "data = [[0.3175, 0.0081, 0.0005],\n",
    "        [0.3593, 0.0111, 0.0011],\n",
    "        [0.3203, 0.0044, -0.0001],\n",
    "        [0.3038, 0.0081, -0.0004],\n",
    "        [0.2665, 0.0010, 0.0000],\n",
    "        [0.4546, 0.0174, -0.0018],\n",
    "        [0.4447, 0.0143, 0.0014],\n",
    "        [0.3504, 0.0092, 0.0013],\n",
    "        [0.3301, 0.0083, 0.0004],\n",
    "        [0.3297, 0.0022, 0.0002],\n",
    "        [0.3178, 0.0067, 0.0012],\n",
    "        [0.3638, 0.0037, 0.0001],\n",
    "        [0.2900, 0.0038, 0.0002],\n",
    "        [0.3352, 0.0049, 0.0001],\n",
    "        [0.3536, 0.0069, 0.0008],\n",
    "        [0.4187, 0.0127, 0.0011],\n",
    "        [0.5409, 0.0169, 0.0003],\n",
    "        [0.3934, 0.0126, 0.0012],\n",
    "        [0.4125, 0.0111, -0.0001],\n",
    "        [0.3042, 0.0050, 0.0005]]\n",
    "\n",
    "    \n",
    "weights = np.array([1, 1, 1])\n",
    "crit    = np.array([1, 1, -1])\n",
    "simtopsis(data, weights, crit)"
   ]
  },
  {
   "cell_type": "code",
   "execution_count": 59,
   "id": "683d4a35",
   "metadata": {},
   "outputs": [],
   "source": [
    "scaler = MinMaxScaler()\n",
    "\n",
    "    # Fit the scaler to the data\n",
    "scaler.fit(data)\n",
    "\n",
    "    # Transform the data\n",
    "normalized_data = scaler.transform(data)\n",
    "\n",
    "    # normalized_data = data / np.linalg.norm(data, axis=0)\n",
    "    # Calculate the weighted normalized data\n",
    "weighted_normalized_data = normalized_data * weights\n",
    "n, m = weighted_normalized_data.shape\n",
    "    # Find the ideal and negative ideal solutions\n",
    "\n",
    "    # assuming n is the number of columns in x\n",
    "r=weighted_normalized_data\n",
    "ideal_solution = np.zeros(m)\n",
    "negative_ideal_solution = np.zeros(m)\n",
    "for j in range(m):\n",
    "    if crit[j] == 1:\n",
    "        ideal_solution[j] = np.amax(r[:, j])\n",
    "        negative_ideal_solution[j] = np.amin(r[:, j])\n",
    "    else:\n",
    "        ideal_solution[j] = np.amin(r[:, j])\n",
    "        negative_ideal_solution[j] = np.amax(r[:, j])"
   ]
  },
  {
   "cell_type": "code",
   "execution_count": 69,
   "id": "0580dbc7",
   "metadata": {},
   "outputs": [
    {
     "name": "stdout",
     "output_type": "stream",
     "text": [
      "3\n"
     ]
    }
   ],
   "source": [
    "m, n = weighted_normalized_data.shape\n",
    "print(n)\n",
    "\n"
   ]
  }
 ],
 "metadata": {
  "kernelspec": {
   "display_name": "Python 3 (ipykernel)",
   "language": "python",
   "name": "python3"
  },
  "language_info": {
   "codemirror_mode": {
    "name": "ipython",
    "version": 3
   },
   "file_extension": ".py",
   "mimetype": "text/x-python",
   "name": "python",
   "nbconvert_exporter": "python",
   "pygments_lexer": "ipython3",
   "version": "3.9.7"
  }
 },
 "nbformat": 4,
 "nbformat_minor": 5
}
